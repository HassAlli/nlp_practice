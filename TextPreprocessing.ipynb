{
  "nbformat": 4,
  "nbformat_minor": 0,
  "metadata": {
    "colab": {
      "provenance": [],
      "authorship_tag": "ABX9TyP8UuPgxptOQCaofNLx8Ixk",
      "include_colab_link": true
    },
    "kernelspec": {
      "name": "python3",
      "display_name": "Python 3"
    },
    "language_info": {
      "name": "python"
    }
  },
  "cells": [
    {
      "cell_type": "markdown",
      "metadata": {
        "id": "view-in-github",
        "colab_type": "text"
      },
      "source": [
        "<a href=\"https://colab.research.google.com/github/HassAlli/nlp_practice/blob/main/TextPreprocessing.ipynb\" target=\"_parent\"><img src=\"https://colab.research.google.com/assets/colab-badge.svg\" alt=\"Open In Colab\"/></a>"
      ]
    },
    {
      "cell_type": "code",
      "execution_count": null,
      "metadata": {
        "id": "MGDuztMgMgFk"
      },
      "outputs": [],
      "source": []
    },
    {
      "cell_type": "markdown",
      "source": [
        "# Text Preprocessing\n",
        "\n",
        "1.   Cleaning\n",
        "2.   Tokenization\n",
        "3.   Stop words removel\n",
        "4.   Stemming\n",
        "5.   Lemmatization\n",
        "\n",
        "\n",
        "\n"
      ],
      "metadata": {
        "id": "wUMGUUZbMvL2"
      }
    },
    {
      "cell_type": "markdown",
      "source": [
        "**1. Cleaning**"
      ],
      "metadata": {
        "id": "rjuUa8TPRGUi"
      }
    },
    {
      "cell_type": "code",
      "source": [
        "import re\n",
        "sent = \"Hello! This is Me! How are u?\"\n",
        "sent = re.sub(r'[^a-zA-Z\\s]', '', sent)\n",
        "sent"
      ],
      "metadata": {
        "colab": {
          "base_uri": "https://localhost:8080/",
          "height": 35
        },
        "id": "TvA1Ax8ZO1rO",
        "outputId": "dc535d88-dfbe-4cda-a40f-69453802ea0c"
      },
      "execution_count": 15,
      "outputs": [
        {
          "output_type": "execute_result",
          "data": {
            "text/plain": [
              "'Hello This is Me How are u'"
            ],
            "application/vnd.google.colaboratory.intrinsic+json": {
              "type": "string"
            }
          },
          "metadata": {},
          "execution_count": 15
        }
      ]
    },
    {
      "cell_type": "markdown",
      "source": [
        "**2. Tokenization**"
      ],
      "metadata": {
        "id": "YzT84vJ5RU2V"
      }
    },
    {
      "cell_type": "code",
      "source": [
        "import nltk\n",
        "nltk.download('punkt')\n",
        "nltk.download('stopwords')\n",
        "nltk.download('wordnet')"
      ],
      "metadata": {
        "colab": {
          "base_uri": "https://localhost:8080/"
        },
        "id": "WB4oVq40PGml",
        "outputId": "6fd47ccf-7c98-476b-e995-cd72efc5e314"
      },
      "execution_count": 3,
      "outputs": [
        {
          "output_type": "stream",
          "name": "stderr",
          "text": [
            "[nltk_data] Downloading package punkt to /root/nltk_data...\n",
            "[nltk_data]   Unzipping tokenizers/punkt.zip.\n",
            "[nltk_data] Downloading package stopwords to /root/nltk_data...\n",
            "[nltk_data]   Unzipping corpora/stopwords.zip.\n",
            "[nltk_data] Downloading package wordnet to /root/nltk_data...\n"
          ]
        },
        {
          "output_type": "execute_result",
          "data": {
            "text/plain": [
              "True"
            ]
          },
          "metadata": {},
          "execution_count": 3
        }
      ]
    },
    {
      "cell_type": "code",
      "source": [
        "paragraph = \"\"\"The quick brown fox jumps over the lazy dog. The dog barks loudly in response.\n",
        "Meanwhile, the cat watches from the top of the tree, unaffected by the commotion.\n",
        "The sun shines brightly on this beautiful day. Birds chirp merrily in the distance, adding to the serene\n",
        "atmosphere. Suddenly, a gust of wind rustles the leaves, creating a gentle whisper.\n",
        "Nature is alive with its own symphony of sounds. As evening approaches, the sky turns into a\n",
        "canvas of vibrant colors. The moon rises, casting a gentle glow over the landscape. It's a perfect\n",
        "time to unwind and reflect on the wonders of the world.\"\"\"\n",
        "\n",
        "sentences = nltk.sent_tokenize(paragraph)\n",
        "sentences"
      ],
      "metadata": {
        "colab": {
          "base_uri": "https://localhost:8080/"
        },
        "id": "AtxygaF3QUyk",
        "outputId": "f44fd167-bc10-4e50-db4b-c6a54dd22934"
      },
      "execution_count": 4,
      "outputs": [
        {
          "output_type": "execute_result",
          "data": {
            "text/plain": [
              "['The quick brown fox jumps over the lazy dog.',\n",
              " 'The dog barks loudly in response.',\n",
              " 'Meanwhile, the cat watches from the top of the tree, unaffected by the commotion.',\n",
              " 'The sun shines brightly on this beautiful day.',\n",
              " 'Birds chirp merrily in the distance, adding to the serene\\natmosphere.',\n",
              " 'Suddenly, a gust of wind rustles the leaves, creating a gentle whisper.',\n",
              " 'Nature is alive with its own symphony of sounds.',\n",
              " 'As evening approaches, the sky turns into a \\ncanvas of vibrant colors.',\n",
              " 'The moon rises, casting a gentle glow over the landscape.',\n",
              " \"It's a perfect \\ntime to unwind and reflect on the wonders of the world.\"]"
            ]
          },
          "metadata": {},
          "execution_count": 4
        }
      ]
    },
    {
      "cell_type": "markdown",
      "source": [
        "**3. Removing Stop words**"
      ],
      "metadata": {
        "id": "w6zWfWQCTDXs"
      }
    },
    {
      "cell_type": "code",
      "source": [
        "from nltk.corpus import stopwords\n",
        "\n",
        "stop_words = stopwords.words('english')\n",
        "\n",
        "print(stop_words)"
      ],
      "metadata": {
        "colab": {
          "base_uri": "https://localhost:8080/"
        },
        "id": "IbRiH3BhSWtT",
        "outputId": "e8178572-69a6-4844-e2f9-78aea6eb6ff4"
      },
      "execution_count": 23,
      "outputs": [
        {
          "output_type": "stream",
          "name": "stdout",
          "text": [
            "['i', 'me', 'my', 'myself', 'we', 'our', 'ours', 'ourselves', 'you', \"you're\", \"you've\", \"you'll\", \"you'd\", 'your', 'yours', 'yourself', 'yourselves', 'he', 'him', 'his', 'himself', 'she', \"she's\", 'her', 'hers', 'herself', 'it', \"it's\", 'its', 'itself', 'they', 'them', 'their', 'theirs', 'themselves', 'what', 'which', 'who', 'whom', 'this', 'that', \"that'll\", 'these', 'those', 'am', 'is', 'are', 'was', 'were', 'be', 'been', 'being', 'have', 'has', 'had', 'having', 'do', 'does', 'did', 'doing', 'a', 'an', 'the', 'and', 'but', 'if', 'or', 'because', 'as', 'until', 'while', 'of', 'at', 'by', 'for', 'with', 'about', 'against', 'between', 'into', 'through', 'during', 'before', 'after', 'above', 'below', 'to', 'from', 'up', 'down', 'in', 'out', 'on', 'off', 'over', 'under', 'again', 'further', 'then', 'once', 'here', 'there', 'when', 'where', 'why', 'how', 'all', 'any', 'both', 'each', 'few', 'more', 'most', 'other', 'some', 'such', 'no', 'nor', 'not', 'only', 'own', 'same', 'so', 'than', 'too', 'very', 's', 't', 'can', 'will', 'just', 'don', \"don't\", 'should', \"should've\", 'now', 'd', 'll', 'm', 'o', 're', 've', 'y', 'ain', 'aren', \"aren't\", 'couldn', \"couldn't\", 'didn', \"didn't\", 'doesn', \"doesn't\", 'hadn', \"hadn't\", 'hasn', \"hasn't\", 'haven', \"haven't\", 'isn', \"isn't\", 'ma', 'mightn', \"mightn't\", 'mustn', \"mustn't\", 'needn', \"needn't\", 'shan', \"shan't\", 'shouldn', \"shouldn't\", 'wasn', \"wasn't\", 'weren', \"weren't\", 'won', \"won't\", 'wouldn', \"wouldn't\"]\n"
          ]
        }
      ]
    },
    {
      "cell_type": "markdown",
      "source": [
        "**4. Stemming**"
      ],
      "metadata": {
        "id": "2KCxOnCRULg0"
      }
    },
    {
      "cell_type": "code",
      "source": [
        "from nltk.stem import PorterStemmer\n",
        "\n",
        "stemmer = PorterStemmer()\n",
        "words = nltk.word_tokenize(paragraph)\n",
        "\n",
        "for word in words:\n",
        "  print(stemmer.stem(word))"
      ],
      "metadata": {
        "id": "DoFYlZC6TadL"
      },
      "execution_count": null,
      "outputs": []
    },
    {
      "cell_type": "markdown",
      "source": [
        "**5. Lemmatization**"
      ],
      "metadata": {
        "id": "YNgXBYSJVMyb"
      }
    },
    {
      "cell_type": "code",
      "source": [
        "from nltk.stem import WordNetLemmatizer\n",
        "\n",
        "lemmatizer = WordNetLemmatizer()\n",
        "words = nltk.word_tokenize(paragraph)\n",
        "for word in words:\n",
        "  print(lemmatizer.lemmatize(word))"
      ],
      "metadata": {
        "id": "PTirmki0VBeY"
      },
      "execution_count": null,
      "outputs": []
    },
    {
      "cell_type": "markdown",
      "source": [
        "**Applying the preprecessing**"
      ],
      "metadata": {
        "id": "CPd8_LbhWOlr"
      }
    },
    {
      "cell_type": "code",
      "source": [
        "import re\n",
        "import nltk\n",
        "from nltk import stem\n",
        "from nltk import PorterStemmer\n",
        "from nltk.corpus import stopwords\n",
        "\n",
        "sentences = nltk.sent_tokenize(paragraph)\n",
        "for sent in sentences:\n",
        "  print(sent)\n",
        "\n",
        "stemmer = PorterStemmer()\n",
        "\n",
        "# stemming\n",
        "for i in range(len(sentences)):\n",
        "  sentences[i] = re.sub(r'[^a-zA-Z\\s]', '', sentences[i])\n",
        "  words = nltk.word_tokenize(sentences[i])\n",
        "  words = [stemmer.stem(word) for word in words if word not in set(stopwords.words('english'))]\n",
        "  sentences[i] = words\n",
        "\n",
        "print(\"_________________________________\\n\")\n",
        "for sent in sentences:\n",
        "  print(sent)"
      ],
      "metadata": {
        "colab": {
          "base_uri": "https://localhost:8080/"
        },
        "id": "AkcBrVYRVr4F",
        "outputId": "1d93f988-3875-46ce-d6f5-c6cbb917491c"
      },
      "execution_count": 12,
      "outputs": [
        {
          "output_type": "stream",
          "name": "stdout",
          "text": [
            "The quick brown fox jumps over the lazy dog.\n",
            "The dog barks loudly in response.\n",
            "Meanwhile, the cat watches from the top of the tree, unaffected by the commotion.\n",
            "The sun shines brightly on this beautiful day.\n",
            "Birds chirp merrily in the distance, adding to the serene\n",
            "atmosphere.\n",
            "Suddenly, a gust of wind rustles the leaves, creating a gentle whisper.\n",
            "Nature is alive with its own symphony of sounds.\n",
            "As evening approaches, the sky turns into a \n",
            "canvas of vibrant colors.\n",
            "The moon rises, casting a gentle glow over the landscape.\n",
            "It's a perfect \n",
            "time to unwind and reflect on the wonders of the world.\n",
            "_________________________________\n",
            "\n",
            "['the', 'quick', 'brown', 'fox', 'jump', 'lazi', 'dog']\n",
            "['the', 'dog', 'bark', 'loudli', 'respons']\n",
            "['meanwhil', 'cat', 'watch', 'top', 'tree', 'unaffect', 'commot']\n",
            "['the', 'sun', 'shine', 'brightli', 'beauti', 'day']\n",
            "['bird', 'chirp', 'merrili', 'distanc', 'ad', 'seren', 'atmospher']\n",
            "['suddenli', 'gust', 'wind', 'rustl', 'leav', 'creat', 'gentl', 'whisper']\n",
            "['natur', 'aliv', 'symphoni', 'sound']\n",
            "['as', 'even', 'approach', 'sky', 'turn', 'canva', 'vibrant', 'color']\n",
            "['the', 'moon', 'rise', 'cast', 'gentl', 'glow', 'landscap']\n",
            "['it', 'perfect', 'time', 'unwind', 'reflect', 'wonder', 'world']\n"
          ]
        }
      ]
    },
    {
      "cell_type": "code",
      "source": [],
      "metadata": {
        "id": "lseutlJzmGgX"
      },
      "execution_count": null,
      "outputs": []
    }
  ]
}